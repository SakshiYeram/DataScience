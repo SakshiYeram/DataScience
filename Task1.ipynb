{
 "cells": [
  {
   "cell_type": "markdown",
   "id": "a4367a0d-08a2-4452-83b6-c9e27594b372",
   "metadata": {},
   "source": [
    "Name: Sakshi Ashok Yeram\n",
    "\n",
    "Branch: CO\n",
    "\n",
    "Task 1"
   ]
  },
  {
   "cell_type": "markdown",
   "id": "62420f59-8f3f-430b-9a10-ee02bf2925af",
   "metadata": {},
   "source": [
    "File Operation"
   ]
  },
  {
   "cell_type": "code",
   "execution_count": 1,
   "id": "4ac8c097-d233-485f-ae76-d92d58a6f413",
   "metadata": {},
   "outputs": [
    {
     "name": "stdout",
     "output_type": "stream",
     "text": [
      "Sakshi Ashok Yeram\n",
      "CO\n",
      "Python \n",
      "Data Science\n"
     ]
    }
   ],
   "source": [
    "file = open(\"rexample.txt\",\"r\")\n",
    "\n",
    "# read file\n",
    "ct = file.read()\n",
    "print(ct)\n",
    "\n",
    "file.close()"
   ]
  },
  {
   "cell_type": "code",
   "execution_count": 4,
   "id": "68714f3a-90bd-4eae-930a-6631321ad460",
   "metadata": {},
   "outputs": [
    {
     "name": "stdout",
     "output_type": "stream",
     "text": [
      "Sakshi Ashok Yeram\n",
      "\n"
     ]
    }
   ],
   "source": [
    "file = open(\"rexample.txt\",\"r\")\n",
    "\n",
    "# readline() function in file\n",
    "line = file.readline()\n",
    "print(line)\n",
    "\n"
   ]
  },
  {
   "cell_type": "code",
   "execution_count": 7,
   "id": "fbe4a2f0-de00-4b16-bfbe-d1979cddb94a",
   "metadata": {},
   "outputs": [
    {
     "name": "stdout",
     "output_type": "stream",
     "text": [
      "['Sakshi Ashok Yeram\\n', 'CO\\n', 'Python \\n', 'Data Science']\n"
     ]
    }
   ],
   "source": [
    "file = open(\"rexample.txt\",\"r\")\n",
    "\n",
    "# readlines function in file\n",
    "line = file.readlines()\n",
    "print(line)"
   ]
  },
  {
   "cell_type": "code",
   "execution_count": 15,
   "id": "882d2768-f253-45cb-93f7-fb7ebc1d0fb2",
   "metadata": {},
   "outputs": [],
   "source": [
    "file = open(\"rexample.txt\",\"w\")\n",
    "\n",
    "# write() function\n",
    "file.write(\"Siddhesh\\n\")\n",
    "\n",
    "# writelines() function\n",
    "a = (\"Sakshi\\n\",\"Siddhesh\\n\",\"Vedant\\n\",\"Sahil\\n\")\n",
    "file.writelines(a)\n",
    "file.close()\n",
    "\n"
   ]
  },
  {
   "cell_type": "code",
   "execution_count": 17,
   "id": "b9f7e0b8-4840-4a2e-80b2-fb84b752974e",
   "metadata": {},
   "outputs": [
    {
     "name": "stdout",
     "output_type": "stream",
     "text": [
      "Siddhesh\n",
      "Sakshi\n",
      "Siddhesh\n",
      "Vedant\n",
      "Sahil\n",
      "\n"
     ]
    }
   ],
   "source": [
    "file = open(\"rexample.txt\",\"r\")\n",
    "\n",
    "# read file\n",
    "content = file.read()\n",
    "print(content)\n",
    "\n",
    "file.close()"
   ]
  },
  {
   "cell_type": "code",
   "execution_count": 24,
   "id": "8a75d9d0-5207-4be3-a1b5-e16856bb96e6",
   "metadata": {},
   "outputs": [],
   "source": [
    "file = open(\"rexample.txt\",\"a\") # append \n",
    "file.write(\" Adding new line\\n\")\n",
    "file.close()"
   ]
  },
  {
   "cell_type": "code",
   "execution_count": 25,
   "id": "ac26cbbd-8cfb-43da-a542-db25e9330359",
   "metadata": {},
   "outputs": [
    {
     "name": "stdout",
     "output_type": "stream",
     "text": [
      "Siddhesh\n",
      "Sakshi\n",
      "Siddhesh\n",
      "Vedant\n",
      "Sahil\n",
      "\n",
      " Adding Adding new line\n",
      "\n"
     ]
    }
   ],
   "source": [
    "file = open(\"rexample.txt\",\"r\")\n",
    "\n",
    "con = file.read()\n",
    "\n",
    "print(con)\n",
    "\n",
    "file.close()"
   ]
  },
  {
   "cell_type": "markdown",
   "id": "44bbeed5-7ebd-4a1d-88c1-133ea5cd8ec6",
   "metadata": {},
   "source": [
    "Assignment Operator"
   ]
  },
  {
   "cell_type": "code",
   "execution_count": 26,
   "id": "cebf2c95-d3ae-4565-ac58-532706471f85",
   "metadata": {},
   "outputs": [
    {
     "name": "stdout",
     "output_type": "stream",
     "text": [
      "x =  10\n",
      "x += 5  15\n",
      "x -= 10  5\n",
      "x *= 9  45\n",
      "x /= 2  22.5\n"
     ]
    }
   ],
   "source": [
    "x = 10\n",
    "print(\"x = \",x)\n",
    "\n",
    "x += 5\n",
    "print(\"x += 5 \",x)\n",
    "\n",
    "x -= 10\n",
    "print(\"x -= 10 \",x)\n",
    "\n",
    "x *= 9\n",
    "print(\"x *= 9 \",x)\n",
    "\n",
    "x /= 2\n",
    "print(\"x /= 2 \",x)"
   ]
  },
  {
   "cell_type": "markdown",
   "id": "e635cccf-bae4-4337-83da-0cc422e71d89",
   "metadata": {},
   "source": [
    "Bitwise Operator"
   ]
  },
  {
   "cell_type": "code",
   "execution_count": 27,
   "id": "87aa4d09-6318-4413-944e-1d4f2c2dac67",
   "metadata": {},
   "outputs": [
    {
     "name": "stdout",
     "output_type": "stream",
     "text": [
      "a & b =  2\n",
      "a | b =  7\n",
      "a ^ b =  5\n",
      "~a =  -7\n",
      "a << 1 =  12\n",
      "a >> 1 =  3\n"
     ]
    }
   ],
   "source": [
    "a = 6\n",
    "b = 3\n",
    "\n",
    "# AND\n",
    "print(\"a & b = \", a & b)\n",
    "#OR\n",
    "print(\"a | b = \", a | b)\n",
    "#XOR\n",
    "print(\"a ^ b = \", a ^ b)\n",
    "#NOT\n",
    "print(\"~a = \", ~a)\n",
    "#LEFT SHIFT\n",
    "print(\"a << 1 = \", a << 1)\n",
    "#RIGHT SHIFT\n",
    "print(\"a >> 1 = \", a >> 1)"
   ]
  },
  {
   "cell_type": "markdown",
   "id": "02485366-f7b3-43a6-b542-6229ca4e73c8",
   "metadata": {},
   "source": [
    "String Operation"
   ]
  },
  {
   "cell_type": "code",
   "execution_count": 28,
   "id": "d0d71a75-00e2-46b8-978a-a123dff6a1b0",
   "metadata": {},
   "outputs": [
    {
     "name": "stdout",
     "output_type": "stream",
     "text": [
      "Welcome to python programming !\n",
      "1. strip:  Welcome to python programming !\n",
      "2. title:  Welcome To Python Programming !\n",
      "3. replace: Welcome to Java programming !\n",
      "4. find: 8\n",
      "5. isalpha:  False\n",
      "6. isalnum:  True\n",
      "7. startswith: True\n",
      "8.endswith:  False\n",
      "9.split:  ['Welcome', 'to', 'python', 'programming', '!']\n"
     ]
    }
   ],
   "source": [
    "text = \"Welcome to python programming !\"\n",
    "print(text)\n",
    "\n",
    "#1.strip() strip the extra space\n",
    "print(\"1. strip: \",text.strip())\n",
    "\n",
    "#2.title() convert first letter of every word in uppercase\n",
    "print(\"2. title: \",text.title())\n",
    "\n",
    "#3.replace() replace into given word\n",
    "print(\"3. replace:\",text.replace(\"python\",\"Java\"))\n",
    "\n",
    "#4.find find thw index of given word\n",
    "print(\"4. find:\",text.find(\"to\"))\n",
    "\n",
    "name = \"sakshi123\"\n",
    "#5.isalpha true if only characters are present\n",
    "print(\"5. isalpha: \",name.isalpha())\n",
    "\n",
    "#6.isalnum true when chracter and numbers any one of this is present\n",
    "print(\"6. isalnum: \",name.isalnum())\n",
    "\n",
    "#7.startswith\n",
    "print(\"7. startswith:\",text.startswith(\"Wel\"))\n",
    "\n",
    "#8. endswith\n",
    "print(\"8.endswith: \",name.endswith(\"ing\"))\n",
    "\n",
    "#9.split\n",
    "print(\"9.split: \",text.split())"
   ]
  }
 ],
 "metadata": {
  "kernelspec": {
   "display_name": "Python 3 (ipykernel)",
   "language": "python",
   "name": "python3"
  },
  "language_info": {
   "codemirror_mode": {
    "name": "ipython",
    "version": 3
   },
   "file_extension": ".py",
   "mimetype": "text/x-python",
   "name": "python",
   "nbconvert_exporter": "python",
   "pygments_lexer": "ipython3",
   "version": "3.13.5"
  }
 },
 "nbformat": 4,
 "nbformat_minor": 5
}
