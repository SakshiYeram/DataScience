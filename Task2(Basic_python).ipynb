{
 "cells": [
  {
   "cell_type": "markdown",
   "id": "aee8811d-6ec7-42f2-ab3c-2772dde94a79",
   "metadata": {},
   "source": [
    "Name: Sakshi Ashok Yeram\n",
    "\n",
    "Branch: CO \n",
    "\n",
    "Task 2 "
   ]
  },
  {
   "cell_type": "markdown",
   "id": "c6cbec71-446c-433b-aaf3-e60dd7c786c0",
   "metadata": {},
   "source": [
    "Assignment Operator"
   ]
  },
  {
   "cell_type": "code",
   "execution_count": 23,
   "id": "e39e1af6-e786-4a11-8d93-907159c1ec18",
   "metadata": {},
   "outputs": [
    {
     "name": "stdout",
     "output_type": "stream",
     "text": [
      "x =  10\n",
      "x += 5  15\n",
      "x -= 10  5\n",
      "x *= 9  45\n",
      "x /= 2  22.5\n"
     ]
    }
   ],
   "source": [
    "x = 10\n",
    "print(\"x = \",x)\n",
    "\n",
    "x += 5\n",
    "print(\"x += 5 \",x)\n",
    "\n",
    "x -= 10\n",
    "print(\"x -= 10 \",x)\n",
    "\n",
    "x *= 9\n",
    "print(\"x *= 9 \",x)\n",
    "\n",
    "x /= 2\n",
    "print(\"x /= 2 \",x)"
   ]
  },
  {
   "cell_type": "markdown",
   "id": "ba4c1c46-d20d-4acb-9fb9-dcd2ebd7bc5f",
   "metadata": {},
   "source": [
    "Bitwise Operator\n"
   ]
  },
  {
   "cell_type": "code",
   "execution_count": 24,
   "id": "4a0f99d2-73c8-49e7-a08a-f234cdf3e86b",
   "metadata": {},
   "outputs": [
    {
     "name": "stdout",
     "output_type": "stream",
     "text": [
      "a & b =  2\n",
      "a | b =  7\n",
      "a ^ b =  5\n",
      "~a =  -7\n",
      "a << 1 =  12\n",
      "a >> 1 =  3\n"
     ]
    }
   ],
   "source": [
    "a = 6\n",
    "b = 3\n",
    "\n",
    "# AND\n",
    "print(\"a & b = \", a & b)\n",
    "#OR\n",
    "print(\"a | b = \", a | b)\n",
    "#XOR\n",
    "print(\"a ^ b = \", a ^ b)\n",
    "#NOT\n",
    "print(\"~a = \", ~a)\n",
    "#LEFT SHIFT\n",
    "print(\"a << 1 = \", a << 1)\n",
    "#RIGHT SHIFT\n",
    "print(\"a >> 1 = \", a >> 1)"
   ]
  },
  {
   "cell_type": "markdown",
   "id": "6b5db988-4bc6-41be-bdad-574a4dba7d0a",
   "metadata": {},
   "source": [
    "String Operation\n"
   ]
  },
  {
   "cell_type": "code",
   "execution_count": 73,
   "id": "3e710f10-3a61-421a-8ba6-3146887086a4",
   "metadata": {},
   "outputs": [
    {
     "name": "stdout",
     "output_type": "stream",
     "text": [
      "Welcome to python programming !\n",
      "1. strip:  Welcome to python programming !\n",
      "2. title:  Welcome To Python Programming !\n",
      "3. replace: Welcome to Java programming !\n",
      "4. find: 8\n",
      "5. isalpha:  False\n",
      "6. isalnum:  True\n",
      "7. startswith: True\n",
      "8.endswith:  False\n",
      "9.split:  ['Welcome', 'to', 'python', 'programming', '!']\n"
     ]
    }
   ],
   "source": [
    "text = \"Welcome to python programming !\"\n",
    "print(text)\n",
    "\n",
    "#1.strip() strip the extra space\n",
    "print(\"1. strip: \",text.strip())\n",
    "\n",
    "#2.title() convert first letter of every word in uppercase\n",
    "print(\"2. title: \",text.title())\n",
    "\n",
    "#3.replace() replace into given word\n",
    "print(\"3. replace:\",text.replace(\"python\",\"Java\"))\n",
    "\n",
    "#4.find find thw index of given word\n",
    "print(\"4. find:\",text.find(\"to\"))\n",
    "\n",
    "name = \"sakshi123\"\n",
    "#5.isalpha true if only characters are present\n",
    "print(\"5. isalpha: \",name.isalpha())\n",
    "\n",
    "#6.isalnum true when chracter and numbers any one of this is present\n",
    "print(\"6. isalnum: \",name.isalnum())\n",
    "\n",
    "#7.startswith\n",
    "print(\"7. startswith:\",text.startswith(\"Wel\"))\n",
    "\n",
    "#8. endswith\n",
    "print(\"8.endswith: \",name.endswith(\"ing\"))\n",
    "\n",
    "#9.split\n",
    "print(\"9.split: \",text.split())"
   ]
  },
  {
   "cell_type": "markdown",
   "id": "3ac31f82-24f6-4982-84d3-841408b2e859",
   "metadata": {},
   "source": [
    "Tuple Operation"
   ]
  },
  {
   "cell_type": "code",
   "execution_count": 1,
   "id": "0c1f8c47-e477-4ab8-814a-bd185aee53c6",
   "metadata": {},
   "outputs": [
    {
     "name": "stdout",
     "output_type": "stream",
     "text": [
      "['Mumbai', 'pune', 'Thane', 'Nerul', 5, '25']\n",
      "Divya\n",
      "[-1, 0, 20, 2, 8, 5, 1]\n",
      "[-1, 0, 25, 20, 2, 8, 5, 1]\n",
      "[-1, 0, 1, 2, 5, 8, 20, 25]\n"
     ]
    }
   ],
   "source": [
    "cities = [\"Mumbai\",\"pune\",\"Thane\",\"Nerul\",5,\"25\"]\n",
    "print(cities)\n",
    "\n",
    "#list indexing\n",
    "#           0        1      2        3\n",
    "names = [\"Aditya\",\"Mahek\",\"Divya\",\"Rutuja\"]\n",
    "print(names[2])\n",
    "\n",
    "#reverse()\n",
    "number = [1,5,8,2,20,0,-1]\n",
    "number.reverse() # reverse the list\n",
    "print(number)\n",
    "\n",
    "#insert()\n",
    "number.insert(2,25) #insert index on which position you want to insert\n",
    "print(number)\n",
    "\n",
    "#sort()\n",
    "number.sort(reverse=False)  # true= desending false=asending\n",
    "print(number)\n",
    "\n"
   ]
  },
  {
   "cell_type": "markdown",
   "id": "b2d7ee09-2f24-4079-8af7-97b48391b14b",
   "metadata": {},
   "source": [
    "List Operation"
   ]
  },
  {
   "cell_type": "code",
   "execution_count": 3,
   "id": "29ec31b4-a7e2-4471-838d-9cf20baa3e74",
   "metadata": {},
   "outputs": [
    {
     "name": "stdout",
     "output_type": "stream",
     "text": [
      "['Mumbai', 'pune', 'Thane', 'Jalgaon']\n",
      "After Append:  ['Mumbai', 'pune', 'Thane', 'Jalgaon', 'Navi mumbai']\n",
      "After Inserting Sambhaji Nagar:  ['Mumbai', 'pune', 'Sambhaji Nagar', 'Thane', 'Jalgaon', 'Navi mumbai']\n",
      "After Removing Thane ['Mumbai', 'pune', 'Sambhaji Nagar', 'Jalgaon', 'Navi mumbai']\n",
      "After pop: ['Mumbai', 'Sambhaji Nagar', 'Jalgaon', 'Navi mumbai']\n",
      "After Reverse:  ['Navi mumbai', 'Jalgaon', 'Sambhaji Nagar', 'Mumbai']\n",
      "After Copy:  ['Navi mumbai', 'Jalgaon', 'Sambhaji Nagar', 'Mumbai']\n",
      "After sort:  ['Jalgaon', 'Mumbai', 'Navi mumbai', 'Sambhaji Nagar']\n"
     ]
    }
   ],
   "source": [
    "cities = [\"Mumbai\",\"pune\",\"Thane\",\"Jalgaon\"]\n",
    "print(cities)\n",
    "\n",
    "# 1. Append: It means appending the given item in the list\n",
    "cities.append(\"Navi mumbai\")\n",
    "print(\"After Append: \",cities)\n",
    "\n",
    "# 2. Insert: It means inserting element at given position\n",
    "cities.insert(2,\"Sambhaji Nagar\")\n",
    "print(\"After Inserting Sambhaji Nagar: \",cities)\n",
    "\n",
    "# 3. Remove: It means removing any elelment present inside the list\n",
    "cities.remove(\"Thane\")\n",
    "print(\"After Removing Thane\",cities)\n",
    "\n",
    "# 4. pop: It means removing element from given position\n",
    "cities.pop(1)\n",
    "print(\"After pop:\",cities)\n",
    "\n",
    "# 5. reverse: It will reverse the given list\n",
    "cities.reverse()\n",
    "print(\"After Reverse: \",cities)\n",
    "\n",
    "# 6. copy: It creates an another copy of list\n",
    "cities2 = cities.copy()\n",
    "print(\"After Copy: \",cities2)\n",
    "\n",
    "# 7. sort\n",
    "cities.sort(reverse= False)\n",
    "print(\"After sort: \",cities)"
   ]
  }
 ],
 "metadata": {
  "kernelspec": {
   "display_name": "Python 3 (ipykernel)",
   "language": "python",
   "name": "python3"
  },
  "language_info": {
   "codemirror_mode": {
    "name": "ipython",
    "version": 3
   },
   "file_extension": ".py",
   "mimetype": "text/x-python",
   "name": "python",
   "nbconvert_exporter": "python",
   "pygments_lexer": "ipython3",
   "version": "3.13.5"
  }
 },
 "nbformat": 4,
 "nbformat_minor": 5
}
