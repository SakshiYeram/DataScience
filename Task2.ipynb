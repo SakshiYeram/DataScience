{
 "cells": [
  {
   "cell_type": "markdown",
   "id": "aee8811d-6ec7-42f2-ab3c-2772dde94a79",
   "metadata": {},
   "source": [
    "Name: Sakshi Ashok Yeram\n",
    "\n",
    "Branch: CO \n",
    "\n",
    "Task 2 "
   ]
  },
  {
   "cell_type": "markdown",
   "id": "3ac31f82-24f6-4982-84d3-841408b2e859",
   "metadata": {},
   "source": [
    "Tuple Operation"
   ]
  },
  {
   "cell_type": "code",
   "execution_count": 1,
   "id": "0c1f8c47-e477-4ab8-814a-bd185aee53c6",
   "metadata": {},
   "outputs": [
    {
     "name": "stdout",
     "output_type": "stream",
     "text": [
      "['Mumbai', 'pune', 'Thane', 'Nerul', 5, '25']\n",
      "Divya\n",
      "[-1, 0, 20, 2, 8, 5, 1]\n",
      "[-1, 0, 25, 20, 2, 8, 5, 1]\n",
      "[-1, 0, 1, 2, 5, 8, 20, 25]\n"
     ]
    }
   ],
   "source": [
    "cities = [\"Mumbai\",\"pune\",\"Thane\",\"Nerul\",5,\"25\"]\n",
    "print(cities)\n",
    "\n",
    "#list indexing\n",
    "#           0        1      2        3\n",
    "names = [\"Aditya\",\"Mahek\",\"Divya\",\"Rutuja\"]\n",
    "print(names[2])\n",
    "\n",
    "#reverse()\n",
    "number = [1,5,8,2,20,0,-1]\n",
    "number.reverse() # reverse the list\n",
    "print(number)\n",
    "\n",
    "#insert()\n",
    "number.insert(2,25) #insert index on which position you want to insert\n",
    "print(number)\n",
    "\n",
    "#sort()\n",
    "number.sort(reverse=False)  # true= desending false=asending\n",
    "print(number)\n",
    "\n"
   ]
  },
  {
   "cell_type": "markdown",
   "id": "b2d7ee09-2f24-4079-8af7-97b48391b14b",
   "metadata": {},
   "source": [
    "List Operation"
   ]
  },
  {
   "cell_type": "code",
   "execution_count": 3,
   "id": "29ec31b4-a7e2-4471-838d-9cf20baa3e74",
   "metadata": {},
   "outputs": [
    {
     "name": "stdout",
     "output_type": "stream",
     "text": [
      "['Mumbai', 'pune', 'Thane', 'Jalgaon']\n",
      "After Append:  ['Mumbai', 'pune', 'Thane', 'Jalgaon', 'Navi mumbai']\n",
      "After Inserting Sambhaji Nagar:  ['Mumbai', 'pune', 'Sambhaji Nagar', 'Thane', 'Jalgaon', 'Navi mumbai']\n",
      "After Removing Thane ['Mumbai', 'pune', 'Sambhaji Nagar', 'Jalgaon', 'Navi mumbai']\n",
      "After pop: ['Mumbai', 'Sambhaji Nagar', 'Jalgaon', 'Navi mumbai']\n",
      "After Reverse:  ['Navi mumbai', 'Jalgaon', 'Sambhaji Nagar', 'Mumbai']\n",
      "After Copy:  ['Navi mumbai', 'Jalgaon', 'Sambhaji Nagar', 'Mumbai']\n",
      "After sort:  ['Jalgaon', 'Mumbai', 'Navi mumbai', 'Sambhaji Nagar']\n"
     ]
    }
   ],
   "source": [
    "cities = [\"Mumbai\",\"pune\",\"Thane\",\"Jalgaon\"]\n",
    "print(cities)\n",
    "\n",
    "# 1. Append: It means appending the given item in the list\n",
    "cities.append(\"Navi mumbai\")\n",
    "print(\"After Append: \",cities)\n",
    "\n",
    "# 2. Insert: It means inserting element at given position\n",
    "cities.insert(2,\"Sambhaji Nagar\")\n",
    "print(\"After Inserting Sambhaji Nagar: \",cities)\n",
    "\n",
    "# 3. Remove: It means removing any elelment present inside the list\n",
    "cities.remove(\"Thane\")\n",
    "print(\"After Removing Thane\",cities)\n",
    "\n",
    "# 4. pop: It means removing element from given position\n",
    "cities.pop(1)\n",
    "print(\"After pop:\",cities)\n",
    "\n",
    "# 5. reverse: It will reverse the given list\n",
    "cities.reverse()\n",
    "print(\"After Reverse: \",cities)\n",
    "\n",
    "# 6. copy: It creates an another copy of list\n",
    "cities2 = cities.copy()\n",
    "print(\"After Copy: \",cities2)\n",
    "\n",
    "# 7. sort\n",
    "cities.sort(reverse= False)\n",
    "print(\"After sort: \",cities)"
   ]
  },
  {
   "cell_type": "markdown",
   "id": "ddaf4277-089d-4965-9c92-55261bcfea1d",
   "metadata": {},
   "source": [
    "Set Operation"
   ]
  },
  {
   "cell_type": "code",
   "execution_count": 6,
   "id": "317e61bb-5653-4f88-a1e7-a2262907b244",
   "metadata": {},
   "outputs": [
    {
     "name": "stdout",
     "output_type": "stream",
     "text": [
      "{1, 2, 3, 4, 5, 6, 7, 8, 9, 10} <class 'set'>\n",
      "{1, 2, 3, 4, 5, 6, 7, 8, 9, 10, 11, 14}\n",
      "{1, 2, 4, 6, 7, 8, 9, 10, 11, 14}\n",
      "{1, 2, 4, 6, 7, 8, 9, 10, 11, 14}\n",
      "{1, 2, 4, 6, 7, 8, 9, 10, 11, 14}\n",
      "set()\n",
      "{1, 2, 3, 4, 5, 6, 7, 8}\n",
      "{4, 5}\n",
      "{8, 6, 7}\n"
     ]
    }
   ],
   "source": [
    "my_set = {1,2,3,4,5,6,7,8,9,10}\n",
    "print(my_set,type(my_set))\n",
    "\n",
    "# .add() \n",
    "my_set.add(11)\n",
    "my_set.add(14)\n",
    "\n",
    "print(\"After Adding:\",my_set)\n",
    "\n",
    "# .remove() \n",
    "my_set.remove(3)\n",
    "my_set.remove(5)\n",
    "print(\"After  removing: \",my_set)\n",
    "\n",
    "# .update() \n",
    "my_set.update([6,9,4])\n",
    "print(\"Update: \",my_set)\n",
    "\n",
    "#.discard()\n",
    "my_set.discard(22)\n",
    "print(my_set)\n",
    "\n",
    "my_set.clear()\n",
    "print(my_set)\n",
    "\n",
    "# set operation\n",
    "# union\n",
    "#intersection\n",
    "#difference\n",
    "\n",
    "a = {1,2,3,4,5}\n",
    "b = {4,5,6,7,8}\n",
    "\n",
    "print(a.union(b))\n",
    "print(a.intersection(b))\n",
    "print(b.difference(a))\n",
    "\n"
   ]
  },
  {
   "cell_type": "code",
   "execution_count": null,
   "id": "c1afe30e-5637-4220-ab6b-94e3acedf94c",
   "metadata": {},
   "outputs": [],
   "source": []
  }
 ],
 "metadata": {
  "kernelspec": {
   "display_name": "Python 3 (ipykernel)",
   "language": "python",
   "name": "python3"
  },
  "language_info": {
   "codemirror_mode": {
    "name": "ipython",
    "version": 3
   },
   "file_extension": ".py",
   "mimetype": "text/x-python",
   "name": "python",
   "nbconvert_exporter": "python",
   "pygments_lexer": "ipython3",
   "version": "3.13.5"
  }
 },
 "nbformat": 4,
 "nbformat_minor": 5
}
