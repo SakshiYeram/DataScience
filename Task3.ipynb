{
 "cells": [
  {
   "cell_type": "markdown",
   "id": "379191c3",
   "metadata": {},
   "source": [
    "Using Numpy Library functions "
   ]
  },
  {
   "cell_type": "code",
   "execution_count": 1,
   "id": "0a1b0003",
   "metadata": {},
   "outputs": [],
   "source": [
    "import numpy as np"
   ]
  },
  {
   "cell_type": "code",
   "execution_count": null,
   "id": "a204efc3",
   "metadata": {},
   "outputs": [
    {
     "name": "stdout",
     "output_type": "stream",
     "text": [
      "********** Students Exam Score Analysis **********\n",
      "[[ 1 95 99 85 78 93]\n",
      " [ 2 97 80 75 68 83]\n",
      " [ 3 45 99 65 98 63]\n",
      " [ 4 65 59 89 68 93]\n",
      " [ 5 55 49 83 70 63]\n",
      " [ 6 85 39 50 78 91]]\n"
     ]
    }
   ],
   "source": [
    "\n",
    "scores = np.array([\n",
    "[1,95,99,85,78,93], # Student 1\n",
    "[2,97,80,75,68,83], # Student 2\n",
    "[3,45,99,65,98,63], # Student 3\n",
    "[4,65,59,89,68,93], # Student 4\n",
    "[5,55,49,83,70,63], # Student 5\n",
    "[6,85,39,50,78,91]  # Student 6\n",
    "])\n",
    "\n",
    "print(\"********** Students Exam Score Analysis **********\")\n",
    "print(scores)"
   ]
  },
  {
   "cell_type": "code",
   "execution_count": 3,
   "id": "e627644c",
   "metadata": {},
   "outputs": [
    {
     "name": "stdout",
     "output_type": "stream",
     "text": [
      "Average Of Score:  [75.16666667 67.5        62.16666667 63.         54.16666667 58.16666667]\n",
      "Minimum score:  [78 68 45 59 49 39]\n",
      "Maximum score:  [99 97 99 93 83 91]\n",
      "cumsum:  [[ 95 194 279 357 450]\n",
      " [ 97 177 252 320 403]\n",
      " [ 45 144 209 307 370]\n",
      " [ 65 124 213 281 374]\n",
      " [ 55 104 187 257 320]\n",
      " [ 85 124 174 252 343]]\n",
      "Total: [450 403 370 374 320 343]\n"
     ]
    }
   ],
   "source": [
    "# Average of score\n",
    "avg =  np.mean(scores[:6],axis=1)\n",
    "print(\"Average Of Score: \",avg )\n",
    "\n",
    "# Minimum score\n",
    "min_score = np.min(scores[:,1 :],axis=1)\n",
    "print(\"Minimum score: \",min_score)\n",
    "\n",
    "# Maximum Score\n",
    "max_score = np.max(scores[:,1 :],axis=1)\n",
    "print(\"Maximum score: \",max_score)\n",
    "\n",
    "# cummilative score\n",
    "cummilative_score = np.cumsum(scores[:, 1:],axis=1)\n",
    "print(\"cumsum: \" ,cummilative_score)\n",
    "\n",
    "\n",
    "# total for each row\n",
    "total = np.sum(scores[:, 1:],axis=1)\n",
    "print(\"Total:\" ,total)\n",
    "\n",
    "\n",
    "\n"
   ]
  },
  {
   "cell_type": "code",
   "execution_count": 10,
   "id": "ffb09bce",
   "metadata": {},
   "outputs": [
    {
     "name": "stdout",
     "output_type": "stream",
     "text": [
      "[[   1 9025 9801 7225 6084 8649]\n",
      " [   4 9409 6400 5625 4624 6889]\n",
      " [   9 2025 9801 4225 9604 3969]\n",
      " [  16 4225 3481 7921 4624 8649]\n",
      " [  25 3025 2401 6889 4900 3969]\n",
      " [  36 7225 1521 2500 6084 8281]]\n",
      "Sorted Score:  [[ 1 78 85 93 95 99]\n",
      " [ 2 68 75 80 83 97]\n",
      " [ 3 45 63 65 98 99]\n",
      " [ 4 59 65 68 89 93]\n",
      " [ 5 49 55 63 70 83]\n",
      " [ 6 39 50 78 85 91]]\n"
     ]
    }
   ],
   "source": [
    "pow = np.power(scores,2)\n",
    "print(pow)\n",
    "\n",
    "sorted_score = np.sort(scores)\n",
    "print(\"Sorted Score: \",sorted_score)\n"
   ]
  },
  {
   "cell_type": "code",
   "execution_count": 4,
   "id": "17b181f5",
   "metadata": {},
   "outputs": [
    {
     "name": "stdout",
     "output_type": "stream",
     "text": [
      "[95 99 93 97 99 98 89 93 91]\n",
      "Standard Deviation:  [ 1.70782513 19.88857852 23.45503973 13.43812983 10.43498389 13.16561177]\n",
      "Standard Deviation:  [33.87435936 30.58730674 32.77405817 29.16047553 24.51133525 29.8519495 ]\n"
     ]
    }
   ],
   "source": [
    "# Student With Score Higher than 85\n",
    "m = scores>85\n",
    "print(scores[m])\n",
    "\n",
    "# Standard Deviation\n",
    "std_per_subject = np.std(scores,axis=0)\n",
    "print(\"Standard Deviation: \",std_per_subject)\n",
    "\n",
    "std_per_student = np.std(scores,axis=1)\n",
    "print(\"Standard Deviation: \",std_per_student)"
   ]
  },
  {
   "cell_type": "code",
   "execution_count": 5,
   "id": "ff39c068",
   "metadata": {},
   "outputs": [
    {
     "name": "stdout",
     "output_type": "stream",
     "text": [
      "Unsorted Score: [[ 1 95 99 85 78 93]\n",
      " [ 2 97 80 75 68 83]\n",
      " [ 3 45 99 65 98 63]\n",
      " [ 4 65 59 89 68 93]\n",
      " [ 5 55 49 83 70 63]\n",
      " [ 6 85 39 50 78 91]]\n",
      "Sorted Score:  [[ 1 78 85 93 95 99]\n",
      " [ 2 68 75 80 83 97]\n",
      " [ 3 45 63 65 98 99]\n",
      " [ 4 59 65 68 89 93]\n",
      " [ 5 49 55 63 70 83]\n",
      " [ 6 39 50 78 85 91]]\n"
     ]
    }
   ],
   "source": [
    "print(\"Unsorted Score:\",scores)\n",
    "print(\"Sorted Score: \",np.sort(scores))\n"
   ]
  },
  {
   "cell_type": "code",
   "execution_count": 6,
   "id": "1dddef1c",
   "metadata": {},
   "outputs": [
    {
     "name": "stdout",
     "output_type": "stream",
     "text": [
      "Shape:  (6, 6)\n",
      "Dimension: 2\n",
      "Size:  36\n",
      "Data type:  int64\n"
     ]
    }
   ],
   "source": [
    "print(\"Shape: \",scores.shape)\n",
    "print(\"Dimension:\",scores.ndim)\n",
    "print(\"Size: \",scores.size)\n",
    "print(\"Data type: \",scores.dtype)\n"
   ]
  },
  {
   "cell_type": "code",
   "execution_count": 7,
   "id": "31ccff79",
   "metadata": {},
   "outputs": [
    {
     "name": "stdout",
     "output_type": "stream",
     "text": [
      "\n",
      " Ravel Score Array :  [ 1 95 99 85 78 93  2 97 80 75 68 83  3 45 99 65 98 63  4 65 59 89 68 93\n",
      "  5 55 49 83 70 63  6 85 39 50 78 91]\n",
      "\n",
      " Flatttend score Array:  [ 1 95 99 85 78 93  2 97 80 75 68 83  3 45 99 65 98 63  4 65 59 89 68 93\n",
      "  5 55 49 83 70 63  6 85 39 50 78 91]\n",
      "\n",
      " Transposed Score Array:  [[ 1  2  3  4  5  6]\n",
      " [95 97 45 65 55 85]\n",
      " [99 80 99 59 49 39]\n",
      " [85 75 65 89 83 50]\n",
      " [78 68 98 68 70 78]\n",
      " [93 83 63 93 63 91]]\n"
     ]
    }
   ],
   "source": [
    "ravel_score = scores.ravel()\n",
    "print(\"\\n Ravel Score Array : \",ravel_score)\n",
    "\n",
    "flattend_score = scores.flatten()\n",
    "print(\"\\n Flatttend score Array: \",flattend_score)\n",
    "\n",
    "transpose_score = scores.T\n",
    "print(\"\\n Transposed Score Array: \",transpose_score)"
   ]
  }
 ],
 "metadata": {
  "kernelspec": {
   "display_name": "Python 3",
   "language": "python",
   "name": "python3"
  },
  "language_info": {
   "codemirror_mode": {
    "name": "ipython",
    "version": 3
   },
   "file_extension": ".py",
   "mimetype": "text/x-python",
   "name": "python",
   "nbconvert_exporter": "python",
   "pygments_lexer": "ipython3",
   "version": "3.13.5"
  }
 },
 "nbformat": 4,
 "nbformat_minor": 5
}
